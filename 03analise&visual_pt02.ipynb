{
 "cells": [
  {
   "cell_type": "code",
   "execution_count": 1,
   "id": "bb96fa0e",
   "metadata": {},
   "outputs": [],
   "source": [
    "import pandas as pd\n",
    "\n",
    "produtos_df = pd.read_csv(r\"Contoso - Cadastro Produtos.csv\", sep=';', encoding='latin1')\n",
    "vendas_df = pd.read_csv(r'Contoso - Vendas - 2017.csv', sep=';')\n",
    "clientes_df = pd.read_csv(r'Contoso - Clientes.csv', sep=';', encoding='latin1')\n",
    "lojas_df = pd.read_csv(r'Contoso - Lojas.csv', sep=';', encoding='latin1')\n",
    "\n",
    "#Renomeando\n",
    "produtos_df = produtos_df.rename(columns={'ÿNome do Produto':'Nome do Produto'})\n",
    "clientes_df = clientes_df.rename(columns={'ÿID Cliente':'ID Cliente'})\n",
    "lojas_df = lojas_df.rename(columns={'ÿID Loja':'ID Loja'})\n",
    "\n",
    "#Simplificando\n",
    "produtos_df = produtos_df[['ID Produto', 'Nome do Produto']]\n",
    "clientes_df = clientes_df[['ID Cliente', 'E-mail']]\n",
    "lojas_df = lojas_df[['ID Loja', 'Nome da Loja']]\n",
    "\n",
    "#Mesclando\n",
    "vendas_df = vendas_df.merge(produtos_df, on='ID Produto')\n",
    "vendas_df = vendas_df.merge(clientes_df, on='ID Cliente').rename(columns={'E-mail':'E-mail do Cliente'})\n",
    "vendas_df = vendas_df.merge(lojas_df, on='ID Loja')"
   ]
  },
  {
   "cell_type": "markdown",
   "id": "7ecb6dfc",
   "metadata": {},
   "source": [
    "Qual loja mais vendeu?"
   ]
  },
  {
   "cell_type": "markdown",
   "id": "f9f232bc",
   "metadata": {},
   "source": [
    "- Usar o groupby para agrupar o dataframe de acordo com o objetivo(somando as quantidades de vendas, por exemplo)"
   ]
  },
  {
   "cell_type": "code",
   "execution_count": 2,
   "id": "abbb2bd8",
   "metadata": {},
   "outputs": [
    {
     "data": {
      "text/html": [
       "<div>\n",
       "<style scoped>\n",
       "    .dataframe tbody tr th:only-of-type {\n",
       "        vertical-align: middle;\n",
       "    }\n",
       "\n",
       "    .dataframe tbody tr th {\n",
       "        vertical-align: top;\n",
       "    }\n",
       "\n",
       "    .dataframe thead th {\n",
       "        text-align: right;\n",
       "    }\n",
       "</style>\n",
       "<table border=\"1\" class=\"dataframe\">\n",
       "  <thead>\n",
       "    <tr style=\"text-align: right;\">\n",
       "      <th></th>\n",
       "      <th>Quantidade Vendida</th>\n",
       "    </tr>\n",
       "    <tr>\n",
       "      <th>Nome da Loja</th>\n",
       "      <th></th>\n",
       "    </tr>\n",
       "  </thead>\n",
       "  <tbody>\n",
       "    <tr>\n",
       "      <th>Loja Contoso Albany</th>\n",
       "      <td>26353</td>\n",
       "    </tr>\n",
       "    <tr>\n",
       "      <th>Loja Contoso Alexandria</th>\n",
       "      <td>26247</td>\n",
       "    </tr>\n",
       "    <tr>\n",
       "      <th>Loja Contoso Amsterdam</th>\n",
       "      <td>28294</td>\n",
       "    </tr>\n",
       "    <tr>\n",
       "      <th>Loja Contoso Anchorage</th>\n",
       "      <td>27451</td>\n",
       "    </tr>\n",
       "    <tr>\n",
       "      <th>Loja Contoso Annapolis</th>\n",
       "      <td>26065</td>\n",
       "    </tr>\n",
       "    <tr>\n",
       "      <th>...</th>\n",
       "      <td>...</td>\n",
       "    </tr>\n",
       "    <tr>\n",
       "      <th>Loja Contoso Yokohama</th>\n",
       "      <td>28023</td>\n",
       "    </tr>\n",
       "    <tr>\n",
       "      <th>Loja Contoso York</th>\n",
       "      <td>27164</td>\n",
       "    </tr>\n",
       "    <tr>\n",
       "      <th>Loja Contoso koln No.1</th>\n",
       "      <td>29046</td>\n",
       "    </tr>\n",
       "    <tr>\n",
       "      <th>Loja Contoso koln No.2</th>\n",
       "      <td>29650</td>\n",
       "    </tr>\n",
       "    <tr>\n",
       "      <th>Loja Contoso obamberg</th>\n",
       "      <td>29336</td>\n",
       "    </tr>\n",
       "  </tbody>\n",
       "</table>\n",
       "<p>306 rows × 1 columns</p>\n",
       "</div>"
      ],
      "text/plain": [
       "                          Quantidade Vendida\n",
       "Nome da Loja                                \n",
       "Loja Contoso Albany                    26353\n",
       "Loja Contoso Alexandria                26247\n",
       "Loja Contoso Amsterdam                 28294\n",
       "Loja Contoso Anchorage                 27451\n",
       "Loja Contoso Annapolis                 26065\n",
       "...                                      ...\n",
       "Loja Contoso Yokohama                  28023\n",
       "Loja Contoso York                      27164\n",
       "Loja Contoso koln No.1                 29046\n",
       "Loja Contoso koln No.2                 29650\n",
       "Loja Contoso obamberg                  29336\n",
       "\n",
       "[306 rows x 1 columns]"
      ]
     },
     "metadata": {},
     "output_type": "display_data"
    }
   ],
   "source": [
    "vendas_lojas = vendas_df.groupby(\"Nome da Loja\")[[\"Quantidade Vendida\"]].sum()  # “Agrupe todas as vendas pelo nome da loja e some a quantidade vendida.”\n",
    "display(vendas_lojas)"
   ]
  },
  {
   "cell_type": "markdown",
   "id": "565812d2",
   "metadata": {},
   "source": [
    "Pegar o maior valor -> Duas formas:"
   ]
  },
  {
   "cell_type": "markdown",
   "id": "758f4ade",
   "metadata": {},
   "source": [
    "- Método .sort_values -> Ordena o dataframe em ordem decrescente de Quantidade de Vendas\n",
    "- Método .max() e .idxmax() -> Pegar o maior valor diretamente"
   ]
  },
  {
   "cell_type": "code",
   "execution_count": 3,
   "id": "6b4f9186",
   "metadata": {},
   "outputs": [
    {
     "data": {
      "text/html": [
       "<div>\n",
       "<style scoped>\n",
       "    .dataframe tbody tr th:only-of-type {\n",
       "        vertical-align: middle;\n",
       "    }\n",
       "\n",
       "    .dataframe tbody tr th {\n",
       "        vertical-align: top;\n",
       "    }\n",
       "\n",
       "    .dataframe thead th {\n",
       "        text-align: right;\n",
       "    }\n",
       "</style>\n",
       "<table border=\"1\" class=\"dataframe\">\n",
       "  <thead>\n",
       "    <tr style=\"text-align: right;\">\n",
       "      <th></th>\n",
       "      <th>Quantidade Vendida</th>\n",
       "    </tr>\n",
       "    <tr>\n",
       "      <th>Nome da Loja</th>\n",
       "      <th></th>\n",
       "    </tr>\n",
       "  </thead>\n",
       "  <tbody>\n",
       "    <tr>\n",
       "      <th>Loja Contoso Catalog</th>\n",
       "      <td>1029117</td>\n",
       "    </tr>\n",
       "    <tr>\n",
       "      <th>Loja Contoso North America Online</th>\n",
       "      <td>701961</td>\n",
       "    </tr>\n",
       "    <tr>\n",
       "      <th>Loja Contoso Europe Online</th>\n",
       "      <td>616845</td>\n",
       "    </tr>\n",
       "    <tr>\n",
       "      <th>Loja Contoso Asia Online</th>\n",
       "      <td>578458</td>\n",
       "    </tr>\n",
       "    <tr>\n",
       "      <th>Loja Contoso North America Reseller</th>\n",
       "      <td>520176</td>\n",
       "    </tr>\n",
       "    <tr>\n",
       "      <th>...</th>\n",
       "      <td>...</td>\n",
       "    </tr>\n",
       "    <tr>\n",
       "      <th>Loja Contoso Berlin</th>\n",
       "      <td>379</td>\n",
       "    </tr>\n",
       "    <tr>\n",
       "      <th>Loja Contoso Paterson</th>\n",
       "      <td>371</td>\n",
       "    </tr>\n",
       "    <tr>\n",
       "      <th>Loja Contoso Marseille</th>\n",
       "      <td>370</td>\n",
       "    </tr>\n",
       "    <tr>\n",
       "      <th>Loja Contoso Racine No.2</th>\n",
       "      <td>253</td>\n",
       "    </tr>\n",
       "    <tr>\n",
       "      <th>Loja Contoso Venezia</th>\n",
       "      <td>234</td>\n",
       "    </tr>\n",
       "  </tbody>\n",
       "</table>\n",
       "<p>306 rows × 1 columns</p>\n",
       "</div>"
      ],
      "text/plain": [
       "                                     Quantidade Vendida\n",
       "Nome da Loja                                           \n",
       "Loja Contoso Catalog                            1029117\n",
       "Loja Contoso North America Online                701961\n",
       "Loja Contoso Europe Online                       616845\n",
       "Loja Contoso Asia Online                         578458\n",
       "Loja Contoso North America Reseller              520176\n",
       "...                                                 ...\n",
       "Loja Contoso Berlin                                 379\n",
       "Loja Contoso Paterson                               371\n",
       "Loja Contoso Marseille                              370\n",
       "Loja Contoso Racine No.2                            253\n",
       "Loja Contoso Venezia                                234\n",
       "\n",
       "[306 rows x 1 columns]"
      ]
     },
     "metadata": {},
     "output_type": "display_data"
    }
   ],
   "source": [
    "vendas_lojas = vendas_lojas.sort_values(by=\"Quantidade Vendida\", ascending=False)\n",
    "display(vendas_lojas)"
   ]
  },
  {
   "cell_type": "code",
   "execution_count": 9,
   "id": "e8a682bc",
   "metadata": {},
   "outputs": [
    {
     "name": "stdout",
     "output_type": "stream",
     "text": [
      "A melhor loja foi a: Loja Contoso Catalog  e sua quantidade vendida: 1029117.\n",
      "A pior loja foi a: Loja Contoso Venezia  e sua quantidade vendida: 234.\n"
     ]
    }
   ],
   "source": [
    "# .max() e .idxmax\n",
    "\n",
    "maior_loja = vendas_lojas['Quantidade Vendida'].max()\n",
    "melhor_loja = vendas_lojas['Quantidade Vendida'].idxmax()\n",
    "print(f'A melhor loja foi a: {melhor_loja} e sua quantidade vendida: {maior_loja}.')\n",
    "\n",
    "# .min() e .idxmin\n",
    "\n",
    "menor_loja = vendas_lojas['Quantidade Vendida'].min()\n",
    "pior_loja = vendas_lojas['Quantidade Vendida'].idxmin()\n",
    "print(f'A pior loja foi a: {pior_loja} e sua quantidade vendida: {menor_loja}.')\n",
    "\n"
   ]
  },
  {
   "cell_type": "code",
   "execution_count": 12,
   "id": "566dee36",
   "metadata": {},
   "outputs": [
    {
     "data": {
      "text/html": [
       "<div>\n",
       "<style scoped>\n",
       "    .dataframe tbody tr th:only-of-type {\n",
       "        vertical-align: middle;\n",
       "    }\n",
       "\n",
       "    .dataframe tbody tr th {\n",
       "        vertical-align: top;\n",
       "    }\n",
       "\n",
       "    .dataframe thead th {\n",
       "        text-align: right;\n",
       "    }\n",
       "</style>\n",
       "<table border=\"1\" class=\"dataframe\">\n",
       "  <thead>\n",
       "    <tr style=\"text-align: right;\">\n",
       "      <th></th>\n",
       "      <th>Quantidade Vendida</th>\n",
       "    </tr>\n",
       "    <tr>\n",
       "      <th>Nome da Loja</th>\n",
       "      <th></th>\n",
       "    </tr>\n",
       "  </thead>\n",
       "  <tbody>\n",
       "    <tr>\n",
       "      <th>Loja Contoso Catalog</th>\n",
       "      <td>1029117</td>\n",
       "    </tr>\n",
       "  </tbody>\n",
       "</table>\n",
       "</div>"
      ],
      "text/plain": [
       "                       Quantidade Vendida\n",
       "Nome da Loja                             \n",
       "Loja Contoso Catalog              1029117"
      ]
     },
     "execution_count": 12,
     "metadata": {},
     "output_type": "execute_result"
    }
   ],
   "source": [
    "vendas_lojas[:1]"
   ]
  },
  {
   "cell_type": "code",
   "execution_count": 13,
   "id": "d9920a2f",
   "metadata": {},
   "outputs": [
    {
     "data": {
      "text/html": [
       "<div>\n",
       "<style scoped>\n",
       "    .dataframe tbody tr th:only-of-type {\n",
       "        vertical-align: middle;\n",
       "    }\n",
       "\n",
       "    .dataframe tbody tr th {\n",
       "        vertical-align: top;\n",
       "    }\n",
       "\n",
       "    .dataframe thead th {\n",
       "        text-align: right;\n",
       "    }\n",
       "</style>\n",
       "<table border=\"1\" class=\"dataframe\">\n",
       "  <thead>\n",
       "    <tr style=\"text-align: right;\">\n",
       "      <th></th>\n",
       "      <th>Quantidade Vendida</th>\n",
       "    </tr>\n",
       "    <tr>\n",
       "      <th>Nome da Loja</th>\n",
       "      <th></th>\n",
       "    </tr>\n",
       "  </thead>\n",
       "  <tbody>\n",
       "    <tr>\n",
       "      <th>Loja Contoso Venezia</th>\n",
       "      <td>234</td>\n",
       "    </tr>\n",
       "  </tbody>\n",
       "</table>\n",
       "</div>"
      ],
      "text/plain": [
       "                       Quantidade Vendida\n",
       "Nome da Loja                             \n",
       "Loja Contoso Venezia                  234"
      ]
     },
     "execution_count": 13,
     "metadata": {},
     "output_type": "execute_result"
    }
   ],
   "source": [
    "vendas_lojas[-1:]"
   ]
  }
 ],
 "metadata": {
  "kernelspec": {
   "display_name": "Python 3",
   "language": "python",
   "name": "python3"
  },
  "language_info": {
   "codemirror_mode": {
    "name": "ipython",
    "version": 3
   },
   "file_extension": ".py",
   "mimetype": "text/x-python",
   "name": "python",
   "nbconvert_exporter": "python",
   "pygments_lexer": "ipython3",
   "version": "3.13.2"
  }
 },
 "nbformat": 4,
 "nbformat_minor": 5
}
